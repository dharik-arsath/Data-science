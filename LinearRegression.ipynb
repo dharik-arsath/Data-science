{
 "cells": [
  {
   "cell_type": "code",
   "execution_count": 30,
   "id": "41001205-8fd9-4090-9223-7bfdc98050fb",
   "metadata": {},
   "outputs": [],
   "source": [
    "import pandas as pd\n",
    "import matplotlib.pyplot as plt\n",
    "import seaborn as sns"
   ]
  },
  {
   "cell_type": "code",
   "execution_count": 31,
   "id": "19c4abcd-b932-4d5c-bca6-edf2bcdf876b",
   "metadata": {},
   "outputs": [
    {
     "data": {
      "text/html": [
       "<div>\n",
       "<style scoped>\n",
       "    .dataframe tbody tr th:only-of-type {\n",
       "        vertical-align: middle;\n",
       "    }\n",
       "\n",
       "    .dataframe tbody tr th {\n",
       "        vertical-align: top;\n",
       "    }\n",
       "\n",
       "    .dataframe thead th {\n",
       "        text-align: right;\n",
       "    }\n",
       "</style>\n",
       "<table border=\"1\" class=\"dataframe\">\n",
       "  <thead>\n",
       "    <tr style=\"text-align: right;\">\n",
       "      <th></th>\n",
       "      <th>Hours</th>\n",
       "      <th>Scores</th>\n",
       "    </tr>\n",
       "  </thead>\n",
       "  <tbody>\n",
       "    <tr>\n",
       "      <th>0</th>\n",
       "      <td>2.5</td>\n",
       "      <td>21</td>\n",
       "    </tr>\n",
       "    <tr>\n",
       "      <th>1</th>\n",
       "      <td>5.1</td>\n",
       "      <td>47</td>\n",
       "    </tr>\n",
       "    <tr>\n",
       "      <th>2</th>\n",
       "      <td>3.2</td>\n",
       "      <td>27</td>\n",
       "    </tr>\n",
       "    <tr>\n",
       "      <th>3</th>\n",
       "      <td>8.5</td>\n",
       "      <td>75</td>\n",
       "    </tr>\n",
       "    <tr>\n",
       "      <th>4</th>\n",
       "      <td>3.5</td>\n",
       "      <td>30</td>\n",
       "    </tr>\n",
       "  </tbody>\n",
       "</table>\n",
       "</div>"
      ],
      "text/plain": [
       "   Hours  Scores\n",
       "0    2.5      21\n",
       "1    5.1      47\n",
       "2    3.2      27\n",
       "3    8.5      75\n",
       "4    3.5      30"
      ]
     },
     "execution_count": 31,
     "metadata": {},
     "output_type": "execute_result"
    }
   ],
   "source": [
    "data = pd.read_csv('/home/arsath/Downloads/csvs/student_scores - student_scores.csv')\n",
    "data.head()"
   ]
  },
  {
   "cell_type": "code",
   "execution_count": 32,
   "id": "2671afd0-7b48-43b4-841a-422ca3cc6810",
   "metadata": {},
   "outputs": [
    {
     "data": {
      "text/plain": [
       "Hours     False\n",
       "Scores    False\n",
       "dtype: bool"
      ]
     },
     "execution_count": 32,
     "metadata": {},
     "output_type": "execute_result"
    }
   ],
   "source": [
    "data.isna().any()"
   ]
  },
  {
   "cell_type": "markdown",
   "id": "b4940dcb-3117-499a-8dea-f8e698aab0b3",
   "metadata": {},
   "source": [
    "## Checking for Outliers"
   ]
  },
  {
   "cell_type": "code",
   "execution_count": 33,
   "id": "94c913b3-0768-4490-bd18-d8672ab3a5c7",
   "metadata": {},
   "outputs": [
    {
     "data": {
      "text/plain": [
       "<AxesSubplot:>"
      ]
     },
     "execution_count": 33,
     "metadata": {},
     "output_type": "execute_result"
    },
    {
     "data": {
      "image/png": "[encoded data removed]",
      "text/plain": [
       "<Figure size 432x288 with 1 Axes>"
      ]
     },
     "metadata": {},
     "output_type": "display_data"
    }
   ],
   "source": [
    "sns.set_style('whitegrid')\n",
    "data.plot(kind='box')"
   ]
  },
  {
   "cell_type": "markdown",
   "id": "e7b71219-dd77-404c-9c96-17466c0efa20",
   "metadata": {},
   "source": [
    "### Some other ways of checking ouliers : \n",
    "       -> Plotting Historgram\n",
    "       -> z score (2 or 3 standard deviation away from mean )\n",
    "       -> Clustering data points and figuring out oulier clusters"
   ]
  },
  {
   "cell_type": "code",
   "execution_count": 34,
   "id": "bbbb14c5-1ef5-48f7-94c6-d502c61376ef",
   "metadata": {},
   "outputs": [
    {
     "data": {
      "text/plain": [
       "<AxesSubplot:>"
      ]
     },
     "execution_count": 34,
     "metadata": {},
     "output_type": "execute_result"
    },
    {
     "data": {
      "image/png": "[encoded data removed]",
      "text/plain": [
       "<Figure size 432x288 with 2 Axes>"
      ]
     },
     "metadata": {},
     "output_type": "display_data"
    }
   ],
   "source": [
    "sns.heatmap(data.corr(),annot=True)"
   ]
  },
  {
   "cell_type": "code",
   "execution_count": 35,
   "id": "a4a99a4d-c5b4-4c14-9315-538491af1f87",
   "metadata": {},
   "outputs": [
    {
     "data": {
      "text/plain": [
       "<AxesSubplot:xlabel='Hours', ylabel='Scores'>"
      ]
     },
     "execution_count": 35,
     "metadata": {},
     "output_type": "execute_result"
    },
    {
     "data": {
      "image/png": "[encoded data removed]",
      "text/plain": [
       "<Figure size 432x288 with 1 Axes>"
      ]
     },
     "metadata": {},
     "output_type": "display_data"
    }
   ],
   "source": [
    "sns.scatterplot(data  = data, x = 'Hours',y='Scores')"
   ]
  },
  {
   "cell_type": "code",
   "execution_count": 36,
   "id": "ff51358b-b78d-4ba1-b1c4-c503c80cf9bf",
   "metadata": {},
   "outputs": [],
   "source": [
    "X = data.loc[:,'Hours'].values.reshape(-1,1)\n",
    "y = data.loc[:,'Scores']"
   ]
  },
  {
   "cell_type": "code",
   "execution_count": null,
   "id": "d51a4ece-b863-4c83-a490-ad250ac96928",
   "metadata": {},
   "outputs": [],
   "source": []
  },
  {
   "cell_type": "code",
   "execution_count": 37,
   "id": "eb652249-d275-47db-9e02-0c5fcf88ddf8",
   "metadata": {},
   "outputs": [],
   "source": [
    "from sklearn.linear_model import LinearRegression\n",
    "from sklearn.model_selection import cross_val_score"
   ]
  },
  {
   "cell_type": "code",
   "execution_count": 38,
   "id": "639dfcf0-8c24-4949-9ad8-666eb313ffbf",
   "metadata": {},
   "outputs": [
    {
     "data": {
      "image/png": "[encoded data removed]",
      "text/plain": [
       "<Figure size 432x288 with 1 Axes>"
      ]
     },
     "metadata": {},
     "output_type": "display_data"
    }
   ],
   "source": [
    "lin = LinearRegression()\n",
    "lin.fit(X,y)\n",
    "plt.scatter(X,y)\n",
    "plt.plot(X,lin.predict(X))\n",
    "plt.xlabel('Hours')\n",
    "plt.ylabel('Scores')\n",
    "plt.show()"
   ]
  },
  {
   "cell_type": "code",
   "execution_count": 39,
   "id": "43f0a837-5cda-4865-90ea-04e2b6127f51",
   "metadata": {},
   "outputs": [
    {
     "data": {
      "text/plain": [
       "array([92.90985477])"
      ]
     },
     "execution_count": 39,
     "metadata": {},
     "output_type": "execute_result"
    }
   ],
   "source": [
    "lin.predict([[9.25]])"
   ]
  },
  {
   "cell_type": "markdown",
   "id": "60caabce-e386-4558-9554-fdf8bda4ab2d",
   "metadata": {},
   "source": [
    "#### Since there is very small data given, further splitting that into training and testing causes lack of data. So in this cases I have done cross validation so that every value is compared to every other value and we can use all our data without data loss"
   ]
  },
  {
   "cell_type": "code",
   "execution_count": 40,
   "id": "758ff7d8-e18f-4bff-8533-abe56f5c1384",
   "metadata": {},
   "outputs": [
    {
     "data": {
      "text/plain": [
       "0.9292424775400273"
      ]
     },
     "execution_count": 40,
     "metadata": {},
     "output_type": "execute_result"
    }
   ],
   "source": [
    "cross_val_score(lin,X,y,cv=3).mean()"
   ]
  },
  {
   "cell_type": "markdown",
   "id": "69545931-1a71-4d9e-91a1-49b4592a338c",
   "metadata": {},
   "source": [
    "## For one unit of change in X axis, how y axis changes is called coef_ "
   ]
  },
  {
   "cell_type": "code",
   "execution_count": 41,
   "id": "be09aaa6-f9d5-4136-83c7-1469aa464c61",
   "metadata": {},
   "outputs": [
    {
     "data": {
      "text/plain": [
       "array([9.77580339])"
      ]
     },
     "execution_count": 41,
     "metadata": {},
     "output_type": "execute_result"
    }
   ],
   "source": [
    "lin.coef_"
   ]
  },
  {
   "cell_type": "code",
   "execution_count": 42,
   "id": "d6a72cbd-033e-49e6-822b-435c978129b9",
   "metadata": {},
   "outputs": [
    {
     "data": {
      "text/plain": [
       "2.483673405373196"
      ]
     },
     "execution_count": 42,
     "metadata": {},
     "output_type": "execute_result"
    }
   ],
   "source": [
    "lin.intercept_"
   ]
  },
  {
   "cell_type": "code",
   "execution_count": null,
   "id": "2fbac8eb-7f17-402c-9361-80cd62c24f14",
   "metadata": {},
   "outputs": [],
   "source": []
  }
 ],
 "metadata": {
  "kernelspec": {
   "display_name": "Python 3",
   "language": "python",
   "name": "python3"
  },
  "language_info": {
   "codemirror_mode": {
    "name": "ipython",
    "version": 3
   },
   "file_extension": ".py",
   "mimetype": "text/x-python",
   "name": "python",
   "nbconvert_exporter": "python",
   "pygments_lexer": "ipython3",
   "version": "3.7.3"
  }
 },
 "nbformat": 4,
 "nbformat_minor": 5
}
