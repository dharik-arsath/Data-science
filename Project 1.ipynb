{
 "cells": [
  {
   "cell_type": "markdown",
   "metadata": {},
   "source": [
    "### When we see the movie Dataset the first question that comes onto our mind is 'Ratings'. The following are the Research Questions that I am covering in this notebook\n",
    "\n",
    "    \n",
    "   -    1) What is the Film that has higher rating than other films\n",
    "          \n",
    "          \n",
    "   -    2) Which Genre of the film that is likely to be rated high\n",
    "          \n",
    "          \n",
    "   -    3) The most active user of this dataset (One who rated the most for movies)\n",
    "    "
   ]
  },
  {
   "cell_type": "code",
   "execution_count": 31,
   "metadata": {},
   "outputs": [],
   "source": [
    "import pandas as pd\n",
    "import matplotlib.pyplot as plt\n",
    "from os import chdir\n",
    "import seaborn as sns\n",
    "import numpy as np\n",
    "chdir('/home/arsath/Downloads/ml-25m')"
   ]
  },
  {
   "cell_type": "code",
   "execution_count": 32,
   "metadata": {
    "scrolled": true
   },
   "outputs": [],
   "source": [
    "movies  = pd.read_csv('movies.csv',dtype={'movieId':np.int})\n",
    "ratings = pd.read_csv('ratings.csv',dtype={'userId':np.int,'movieId':np.int,'rating':np.float,'timestamp':np.int})"
   ]
  },
  {
   "cell_type": "code",
   "execution_count": 33,
   "metadata": {},
   "outputs": [
    {
     "name": "stdout",
     "output_type": "stream",
     "text": [
      "This Dataset is ranging From 09-01-1995 To 21-11-2019\n",
      "*******************************************************************************************\n"
     ]
    }
   ],
   "source": [
    "movies['title']      = movies['title'].str.title()\n",
    "movies['genres']     = movies['genres'].str.title() \n",
    "movies.drop_duplicates(subset = ['title'],keep = 'first',inplace = True)\n",
    "ratings['timestamp'] = pd.to_datetime(ratings['timestamp'],unit='s')\n",
    "ratings.rename(columns = {'timestamp': 'DateTime'},inplace = True)\n",
    "data_range = ratings['DateTime'].agg((min,max))\n",
    "print(f\"This Dataset is ranging From {data_range.loc['min'].strftime('%d-%m-%Y')} To {data_range.loc['max'].strftime('%d-%m-%Y') }\")\n",
    "print(91*'*')"
   ]
  },
  {
   "cell_type": "code",
   "execution_count": 34,
   "metadata": {},
   "outputs": [
    {
     "data": {
      "text/html": [
       "<div>\n",
       "<style scoped>\n",
       "    .dataframe tbody tr th:only-of-type {\n",
       "        vertical-align: middle;\n",
       "    }\n",
       "\n",
       "    .dataframe tbody tr th {\n",
       "        vertical-align: top;\n",
       "    }\n",
       "\n",
       "    .dataframe thead th {\n",
       "        text-align: right;\n",
       "    }\n",
       "</style>\n",
       "<table border=\"1\" class=\"dataframe\">\n",
       "  <thead>\n",
       "    <tr style=\"text-align: right;\">\n",
       "      <th></th>\n",
       "      <th>movieId</th>\n",
       "      <th>title</th>\n",
       "      <th>genres</th>\n",
       "    </tr>\n",
       "  </thead>\n",
       "  <tbody>\n",
       "    <tr>\n",
       "      <th>0</th>\n",
       "      <td>1</td>\n",
       "      <td>Toy Story (1995)</td>\n",
       "      <td>Adventure|Animation|Children|Comedy|Fantasy</td>\n",
       "    </tr>\n",
       "    <tr>\n",
       "      <th>1</th>\n",
       "      <td>2</td>\n",
       "      <td>Jumanji (1995)</td>\n",
       "      <td>Adventure|Children|Fantasy</td>\n",
       "    </tr>\n",
       "    <tr>\n",
       "      <th>2</th>\n",
       "      <td>3</td>\n",
       "      <td>Grumpier Old Men (1995)</td>\n",
       "      <td>Comedy|Romance</td>\n",
       "    </tr>\n",
       "    <tr>\n",
       "      <th>3</th>\n",
       "      <td>4</td>\n",
       "      <td>Waiting To Exhale (1995)</td>\n",
       "      <td>Comedy|Drama|Romance</td>\n",
       "    </tr>\n",
       "    <tr>\n",
       "      <th>4</th>\n",
       "      <td>5</td>\n",
       "      <td>Father Of The Bride Part Ii (1995)</td>\n",
       "      <td>Comedy</td>\n",
       "    </tr>\n",
       "  </tbody>\n",
       "</table>\n",
       "</div>"
      ],
      "text/plain": [
       "   movieId                               title  \\\n",
       "0        1                    Toy Story (1995)   \n",
       "1        2                      Jumanji (1995)   \n",
       "2        3             Grumpier Old Men (1995)   \n",
       "3        4            Waiting To Exhale (1995)   \n",
       "4        5  Father Of The Bride Part Ii (1995)   \n",
       "\n",
       "                                        genres  \n",
       "0  Adventure|Animation|Children|Comedy|Fantasy  \n",
       "1                   Adventure|Children|Fantasy  \n",
       "2                               Comedy|Romance  \n",
       "3                         Comedy|Drama|Romance  \n",
       "4                                       Comedy  "
      ]
     },
     "execution_count": 34,
     "metadata": {},
     "output_type": "execute_result"
    }
   ],
   "source": [
    "movies.head()"
   ]
  },
  {
   "cell_type": "code",
   "execution_count": 35,
   "metadata": {},
   "outputs": [
    {
     "name": "stdout",
     "output_type": "stream",
     "text": [
      "\n",
      "This movies csv has 62323 Rows and 3 Columns\n",
      "\n",
      "Does this data contains any null values : False\n",
      "*******************************************************************************************\n"
     ]
    }
   ],
   "source": [
    "print(f\"\\nThis movies csv has {movies.shape[0]} Rows and {movies.shape[1]} Columns\")\n",
    "print(f\"\\nDoes this data contains any null values : {movies.isnull().any().any()}\")\n",
    "print(91*'*')"
   ]
  },
  {
   "cell_type": "code",
   "execution_count": 36,
   "metadata": {},
   "outputs": [
    {
     "data": {
      "text/html": [
       "<div>\n",
       "<style scoped>\n",
       "    .dataframe tbody tr th:only-of-type {\n",
       "        vertical-align: middle;\n",
       "    }\n",
       "\n",
       "    .dataframe tbody tr th {\n",
       "        vertical-align: top;\n",
       "    }\n",
       "\n",
       "    .dataframe thead th {\n",
       "        text-align: right;\n",
       "    }\n",
       "</style>\n",
       "<table border=\"1\" class=\"dataframe\">\n",
       "  <thead>\n",
       "    <tr style=\"text-align: right;\">\n",
       "      <th></th>\n",
       "      <th>userId</th>\n",
       "      <th>movieId</th>\n",
       "      <th>rating</th>\n",
       "      <th>DateTime</th>\n",
       "    </tr>\n",
       "  </thead>\n",
       "  <tbody>\n",
       "    <tr>\n",
       "      <th>0</th>\n",
       "      <td>1</td>\n",
       "      <td>296</td>\n",
       "      <td>5.0</td>\n",
       "      <td>2006-05-17 15:34:04</td>\n",
       "    </tr>\n",
       "    <tr>\n",
       "      <th>1</th>\n",
       "      <td>1</td>\n",
       "      <td>306</td>\n",
       "      <td>3.5</td>\n",
       "      <td>2006-05-17 12:26:57</td>\n",
       "    </tr>\n",
       "    <tr>\n",
       "      <th>2</th>\n",
       "      <td>1</td>\n",
       "      <td>307</td>\n",
       "      <td>5.0</td>\n",
       "      <td>2006-05-17 12:27:08</td>\n",
       "    </tr>\n",
       "    <tr>\n",
       "      <th>3</th>\n",
       "      <td>1</td>\n",
       "      <td>665</td>\n",
       "      <td>5.0</td>\n",
       "      <td>2006-05-17 15:13:40</td>\n",
       "    </tr>\n",
       "    <tr>\n",
       "      <th>4</th>\n",
       "      <td>1</td>\n",
       "      <td>899</td>\n",
       "      <td>3.5</td>\n",
       "      <td>2006-05-17 12:21:50</td>\n",
       "    </tr>\n",
       "  </tbody>\n",
       "</table>\n",
       "</div>"
      ],
      "text/plain": [
       "   userId  movieId  rating            DateTime\n",
       "0       1      296     5.0 2006-05-17 15:34:04\n",
       "1       1      306     3.5 2006-05-17 12:26:57\n",
       "2       1      307     5.0 2006-05-17 12:27:08\n",
       "3       1      665     5.0 2006-05-17 15:13:40\n",
       "4       1      899     3.5 2006-05-17 12:21:50"
      ]
     },
     "execution_count": 36,
     "metadata": {},
     "output_type": "execute_result"
    }
   ],
   "source": [
    "ratings.head()"
   ]
  },
  {
   "cell_type": "code",
   "execution_count": 37,
   "metadata": {},
   "outputs": [
    {
     "name": "stdout",
     "output_type": "stream",
     "text": [
      "\n",
      "This ratings csv has 25000095 Rows and 4 Columns\n",
      "\n",
      "Does this data contains any null values : False\n",
      "*******************************************************************************************\n"
     ]
    }
   ],
   "source": [
    "print(f\"\\nThis ratings csv has {ratings.shape[0]} Rows and {ratings.shape[1]} Columns\")\n",
    "print(f\"\\nDoes this data contains any null values : {ratings.isnull().any().any()}\")\n",
    "print(91*'*')"
   ]
  },
  {
   "cell_type": "code",
   "execution_count": 38,
   "metadata": {},
   "outputs": [],
   "source": [
    "groups      = ratings.groupby('movieId',as_index=False)\n",
    "counts_df   = groups['userId'].count()\n",
    "mean_counts = counts_df['userId'].mean()\n",
    "counts_df   = counts_df[counts_df['userId'] >= mean_counts]"
   ]
  },
  {
   "cell_type": "code",
   "execution_count": 39,
   "metadata": {},
   "outputs": [
    {
     "data": {
      "text/html": [
       "<div>\n",
       "<style scoped>\n",
       "    .dataframe tbody tr th:only-of-type {\n",
       "        vertical-align: middle;\n",
       "    }\n",
       "\n",
       "    .dataframe tbody tr th {\n",
       "        vertical-align: top;\n",
       "    }\n",
       "\n",
       "    .dataframe thead th {\n",
       "        text-align: right;\n",
       "    }\n",
       "</style>\n",
       "<table border=\"1\" class=\"dataframe\">\n",
       "  <thead>\n",
       "    <tr style=\"text-align: right;\">\n",
       "      <th></th>\n",
       "      <th>movieId</th>\n",
       "      <th>title</th>\n",
       "      <th>genres</th>\n",
       "      <th>rating</th>\n",
       "    </tr>\n",
       "  </thead>\n",
       "  <tbody>\n",
       "    <tr>\n",
       "      <th>5726</th>\n",
       "      <td>171011</td>\n",
       "      <td>Planet Earth Ii (2016)</td>\n",
       "      <td>Documentary</td>\n",
       "      <td>4.483096</td>\n",
       "    </tr>\n",
       "    <tr>\n",
       "      <th>5639</th>\n",
       "      <td>159817</td>\n",
       "      <td>Planet Earth (2006)</td>\n",
       "      <td>Documentary</td>\n",
       "      <td>4.464797</td>\n",
       "    </tr>\n",
       "    <tr>\n",
       "      <th>253</th>\n",
       "      <td>318</td>\n",
       "      <td>Shawshank Redemption, The (1994)</td>\n",
       "      <td>Crime|Drama</td>\n",
       "      <td>4.413576</td>\n",
       "    </tr>\n",
       "    <tr>\n",
       "      <th>5721</th>\n",
       "      <td>170705</td>\n",
       "      <td>Band Of Brothers (2001)</td>\n",
       "      <td>Action|Drama|War</td>\n",
       "      <td>4.398599</td>\n",
       "    </tr>\n",
       "    <tr>\n",
       "      <th>596</th>\n",
       "      <td>858</td>\n",
       "      <td>Godfather, The (1972)</td>\n",
       "      <td>Crime|Drama</td>\n",
       "      <td>4.324336</td>\n",
       "    </tr>\n",
       "    <tr>\n",
       "      <th>...</th>\n",
       "      <td>...</td>\n",
       "      <td>...</td>\n",
       "      <td>...</td>\n",
       "      <td>...</td>\n",
       "    </tr>\n",
       "    <tr>\n",
       "      <th>3475</th>\n",
       "      <td>6872</td>\n",
       "      <td>House Of The Dead, The (2003)</td>\n",
       "      <td>Action|Horror</td>\n",
       "      <td>1.336538</td>\n",
       "    </tr>\n",
       "    <tr>\n",
       "      <th>4002</th>\n",
       "      <td>31698</td>\n",
       "      <td>Son Of The Mask (2005)</td>\n",
       "      <td>Adventure|Children|Comedy|Fantasy</td>\n",
       "      <td>1.232227</td>\n",
       "    </tr>\n",
       "    <tr>\n",
       "      <th>3393</th>\n",
       "      <td>6587</td>\n",
       "      <td>Gigli (2003)</td>\n",
       "      <td>Comedy|Crime|Romance</td>\n",
       "      <td>1.214380</td>\n",
       "    </tr>\n",
       "    <tr>\n",
       "      <th>4589</th>\n",
       "      <td>61348</td>\n",
       "      <td>Disaster Movie (2008)</td>\n",
       "      <td>Comedy</td>\n",
       "      <td>1.205566</td>\n",
       "    </tr>\n",
       "    <tr>\n",
       "      <th>2858</th>\n",
       "      <td>4775</td>\n",
       "      <td>Glitter (2001)</td>\n",
       "      <td>Drama|Musical|Romance</td>\n",
       "      <td>1.125561</td>\n",
       "    </tr>\n",
       "  </tbody>\n",
       "</table>\n",
       "<p>5827 rows × 4 columns</p>\n",
       "</div>"
      ],
      "text/plain": [
       "      movieId                             title  \\\n",
       "5726   171011            Planet Earth Ii (2016)   \n",
       "5639   159817               Planet Earth (2006)   \n",
       "253       318  Shawshank Redemption, The (1994)   \n",
       "5721   170705           Band Of Brothers (2001)   \n",
       "596       858             Godfather, The (1972)   \n",
       "...       ...                               ...   \n",
       "3475     6872     House Of The Dead, The (2003)   \n",
       "4002    31698            Son Of The Mask (2005)   \n",
       "3393     6587                      Gigli (2003)   \n",
       "4589    61348             Disaster Movie (2008)   \n",
       "2858     4775                    Glitter (2001)   \n",
       "\n",
       "                                 genres    rating  \n",
       "5726                        Documentary  4.483096  \n",
       "5639                        Documentary  4.464797  \n",
       "253                         Crime|Drama  4.413576  \n",
       "5721                   Action|Drama|War  4.398599  \n",
       "596                         Crime|Drama  4.324336  \n",
       "...                                 ...       ...  \n",
       "3475                      Action|Horror  1.336538  \n",
       "4002  Adventure|Children|Comedy|Fantasy  1.232227  \n",
       "3393               Comedy|Crime|Romance  1.214380  \n",
       "4589                             Comedy  1.205566  \n",
       "2858              Drama|Musical|Romance  1.125561  \n",
       "\n",
       "[5827 rows x 4 columns]"
      ]
     },
     "execution_count": 39,
     "metadata": {},
     "output_type": "execute_result"
    }
   ],
   "source": [
    "merged_df   = movies.merge(counts_df['movieId'])\n",
    "rate        = groups['rating'].mean()\n",
    "merged_df   = merged_df.merge(rate).sort_values(by='rating',ascending = False)\n",
    "merged_df"
   ]
  },
  {
   "cell_type": "markdown",
   "metadata": {},
   "source": [
    "### BBC's Planet Earth is secured top 2 place of this dataset\n",
    "### Shawshank Redemption is the First movie that secured 3 rd place in our dataset"
   ]
  },
  {
   "cell_type": "code",
   "execution_count": 40,
   "metadata": {
    "scrolled": true
   },
   "outputs": [
    {
     "data": {
      "image/png": "[encoded data removed]",
      "text/plain": [
       "<Figure size 432x288 with 1 Axes>"
      ]
     },
     "metadata": {
      "needs_background": "light"
     },
     "output_type": "display_data"
    }
   ],
   "source": [
    "plt.plot(merged_df['title'][10::-1],merged_df['rating'][10::-1],'go-')\n",
    "plt.title('Highly Rated Movie')\n",
    "plt.xlabel('Movie Name')\n",
    "plt.ylabel('rating')\n",
    "plt.tick_params(rotation=90)\n",
    "plt.grid(True)\n",
    "plt.show()"
   ]
  },
  {
   "cell_type": "markdown",
   "metadata": {},
   "source": [
    "### The Above plot shows that Planet Earth secured top 2 places in our dataset"
   ]
  },
  {
   "cell_type": "code",
   "execution_count": 41,
   "metadata": {},
   "outputs": [
    {
     "name": "stdout",
     "output_type": "stream",
     "text": [
      "Drama                                    570\n",
      "Comedy                                   472\n",
      "Comedy|Drama                             249\n",
      "Comedy|Romance                           230\n",
      "Drama|Romance                            229\n",
      "                                        ... \n",
      "Adventure|Comedy|Crime|Thriller            1\n",
      "Drama|Horror|Mystery|Romance|Thriller      1\n",
      "Adventure|Horror|Sci-Fi                    1\n",
      "Action|Fantasy|Thriller|Imax               1\n",
      "Action|Animation|Mystery|Imax              1\n",
      "Name: genres, Length: 752, dtype: int64\n",
      "*******************************************************************************************\n"
     ]
    }
   ],
   "source": [
    "top_genre = merged_df['genres'].value_counts(ascending = False)\n",
    "print(top_genre)\n",
    "print(91*'*')"
   ]
  },
  {
   "cell_type": "markdown",
   "metadata": {},
   "source": [
    "### The films which come under Drama Gendre are likely to be rated high"
   ]
  },
  {
   "cell_type": "code",
   "execution_count": 42,
   "metadata": {},
   "outputs": [
    {
     "data": {
      "image/png": "[encoded data removed]",
      "text/plain": [
       "<Figure size 432x288 with 1 Axes>"
      ]
     },
     "metadata": {
      "needs_background": "light"
     },
     "output_type": "display_data"
    },
    {
     "name": "stdout",
     "output_type": "stream",
     "text": [
      "*******************************************************************************************\n"
     ]
    }
   ],
   "source": [
    "fig = sns.barplot(x = top_genre.index[:15],y = top_genre[:15],palette = 'Blues_d')\n",
    "fig.set_title('Highly rated Genre')\n",
    "fig.set_xlabel('Gendres')\n",
    "fig.set_ylabel('Counts')\n",
    "fig.tick_params(labelrotation=90)\n",
    "plt.show()\n",
    "print(91*'*')"
   ]
  },
  {
   "cell_type": "markdown",
   "metadata": {},
   "source": [
    "### The Above plot shows that the Film which are of the Gendres Drama are rated highly."
   ]
  },
  {
   "cell_type": "code",
   "execution_count": 43,
   "metadata": {},
   "outputs": [
    {
     "name": "stdout",
     "output_type": "stream",
     "text": [
      "The Top 5 most active users in this dataset are \n",
      "\n",
      "userId\n",
      "72315     32202\n",
      "80974      9178\n",
      "137293     8913\n",
      "33844      7919\n",
      "20055      7488\n",
      "Name: movie_count, dtype: int64\n",
      "*******************************************************************************************\n"
     ]
    }
   ],
   "source": [
    "active_user       = ratings.groupby('userId')['movieId'].count().sort_values(ascending = False)\n",
    "active_user.rename('movie_count',inplace = True)\n",
    "print(f'The Top 5 most active users in this dataset are \\n\\n{active_user.head()}')\n",
    "print(91*'*')"
   ]
  },
  {
   "cell_type": "markdown",
   "metadata": {},
   "source": [
    "### The Above Series shows that the user 72315 is the most active user among others and he is rated for 32202 films"
   ]
  },
  {
   "cell_type": "code",
   "execution_count": 49,
   "metadata": {},
   "outputs": [
    {
     "data": {
      "text/html": [
       "<div>\n",
       "<style scoped>\n",
       "    .dataframe tbody tr th:only-of-type {\n",
       "        vertical-align: middle;\n",
       "    }\n",
       "\n",
       "    .dataframe tbody tr th {\n",
       "        vertical-align: top;\n",
       "    }\n",
       "\n",
       "    .dataframe thead th {\n",
       "        text-align: right;\n",
       "    }\n",
       "</style>\n",
       "<table border=\"1\" class=\"dataframe\">\n",
       "  <thead>\n",
       "    <tr style=\"text-align: right;\">\n",
       "      <th></th>\n",
       "      <th>movieId</th>\n",
       "      <th>title</th>\n",
       "      <th>genres</th>\n",
       "      <th>rating</th>\n",
       "    </tr>\n",
       "  </thead>\n",
       "  <tbody>\n",
       "    <tr>\n",
       "      <th>5726</th>\n",
       "      <td>171011</td>\n",
       "      <td>Planet Earth Ii (2016)</td>\n",
       "      <td>Documentary</td>\n",
       "      <td>4.483096</td>\n",
       "    </tr>\n",
       "    <tr>\n",
       "      <th>5639</th>\n",
       "      <td>159817</td>\n",
       "      <td>Planet Earth (2006)</td>\n",
       "      <td>Documentary</td>\n",
       "      <td>4.464797</td>\n",
       "    </tr>\n",
       "    <tr>\n",
       "      <th>253</th>\n",
       "      <td>318</td>\n",
       "      <td>Shawshank Redemption, The (1994)</td>\n",
       "      <td>Crime|Drama</td>\n",
       "      <td>4.413576</td>\n",
       "    </tr>\n",
       "    <tr>\n",
       "      <th>5721</th>\n",
       "      <td>170705</td>\n",
       "      <td>Band Of Brothers (2001)</td>\n",
       "      <td>Action|Drama|War</td>\n",
       "      <td>4.398599</td>\n",
       "    </tr>\n",
       "    <tr>\n",
       "      <th>596</th>\n",
       "      <td>858</td>\n",
       "      <td>Godfather, The (1972)</td>\n",
       "      <td>Crime|Drama</td>\n",
       "      <td>4.324336</td>\n",
       "    </tr>\n",
       "    <tr>\n",
       "      <th>...</th>\n",
       "      <td>...</td>\n",
       "      <td>...</td>\n",
       "      <td>...</td>\n",
       "      <td>...</td>\n",
       "    </tr>\n",
       "    <tr>\n",
       "      <th>1733</th>\n",
       "      <td>2600</td>\n",
       "      <td>Existenz (1999)</td>\n",
       "      <td>Action|Sci-Fi|Thriller</td>\n",
       "      <td>3.349642</td>\n",
       "    </tr>\n",
       "    <tr>\n",
       "      <th>3464</th>\n",
       "      <td>6832</td>\n",
       "      <td>Regarding Henry (1991)</td>\n",
       "      <td>Drama</td>\n",
       "      <td>3.349628</td>\n",
       "    </tr>\n",
       "    <tr>\n",
       "      <th>3773</th>\n",
       "      <td>8376</td>\n",
       "      <td>Napoleon Dynamite (2004)</td>\n",
       "      <td>Comedy</td>\n",
       "      <td>3.349476</td>\n",
       "    </tr>\n",
       "    <tr>\n",
       "      <th>3181</th>\n",
       "      <td>5679</td>\n",
       "      <td>Ring, The (2002)</td>\n",
       "      <td>Horror|Mystery|Thriller</td>\n",
       "      <td>3.349474</td>\n",
       "    </tr>\n",
       "    <tr>\n",
       "      <th>3493</th>\n",
       "      <td>6936</td>\n",
       "      <td>Elf (2003)</td>\n",
       "      <td>Children|Comedy|Fantasy</td>\n",
       "      <td>3.349424</td>\n",
       "    </tr>\n",
       "  </tbody>\n",
       "</table>\n",
       "<p>3223 rows × 4 columns</p>\n",
       "</div>"
      ],
      "text/plain": [
       "      movieId                             title                   genres  \\\n",
       "5726   171011            Planet Earth Ii (2016)              Documentary   \n",
       "5639   159817               Planet Earth (2006)              Documentary   \n",
       "253       318  Shawshank Redemption, The (1994)              Crime|Drama   \n",
       "5721   170705           Band Of Brothers (2001)         Action|Drama|War   \n",
       "596       858             Godfather, The (1972)              Crime|Drama   \n",
       "...       ...                               ...                      ...   \n",
       "1733     2600                   Existenz (1999)   Action|Sci-Fi|Thriller   \n",
       "3464     6832            Regarding Henry (1991)                    Drama   \n",
       "3773     8376          Napoleon Dynamite (2004)                   Comedy   \n",
       "3181     5679                  Ring, The (2002)  Horror|Mystery|Thriller   \n",
       "3493     6936                        Elf (2003)  Children|Comedy|Fantasy   \n",
       "\n",
       "        rating  \n",
       "5726  4.483096  \n",
       "5639  4.464797  \n",
       "253   4.413576  \n",
       "5721  4.398599  \n",
       "596   4.324336  \n",
       "...        ...  \n",
       "1733  3.349642  \n",
       "3464  3.349628  \n",
       "3773  3.349476  \n",
       "3181  3.349474  \n",
       "3493  3.349424  \n",
       "\n",
       "[3223 rows x 4 columns]"
      ]
     },
     "execution_count": 49,
     "metadata": {},
     "output_type": "execute_result"
    }
   ],
   "source": [
    "ratings_mean = merged_df['rating'].mean()\n",
    "highly_rated = merged_df[merged_df['rating'] >=  ratings_mean]\n",
    "highly_rated"
   ]
  },
  {
   "cell_type": "code",
   "execution_count": 44,
   "metadata": {},
   "outputs": [],
   "source": [
    "# For Genral Audience"
   ]
  },
  {
   "cell_type": "code",
   "execution_count": 45,
   "metadata": {},
   "outputs": [],
   "source": [
    "available_gendres = merged_df['genres'].str.split('|')"
   ]
  },
  {
   "cell_type": "code",
   "execution_count": 46,
   "metadata": {},
   "outputs": [
    {
     "name": "stdout",
     "output_type": "stream",
     "text": [
      "{'(No Genres Listed)', 'Crime', 'Action', 'Comedy', 'Fantasy', 'Musical', 'Horror', 'Drama', 'Children', 'Documentary', 'Thriller', 'Animation', 'Sci-Fi', 'Adventure', 'Mystery', 'Romance', 'Film-Noir', 'Western', 'War', 'Imax'}*******************************************************************************************\n"
     ]
    }
   ],
   "source": [
    "print(set(np.concatenate(available_gendres).flat),end='')\n",
    "print(91*'*')"
   ]
  },
  {
   "cell_type": "code",
   "execution_count": 48,
   "metadata": {},
   "outputs": [
    {
     "name": "stdout",
     "output_type": "stream",
     "text": [
      "Enter the Genre of film to watch out for this weekend: Drama\n"
     ]
    },
    {
     "data": {
      "text/html": [
       "<div>\n",
       "<style scoped>\n",
       "    .dataframe tbody tr th:only-of-type {\n",
       "        vertical-align: middle;\n",
       "    }\n",
       "\n",
       "    .dataframe tbody tr th {\n",
       "        vertical-align: top;\n",
       "    }\n",
       "\n",
       "    .dataframe thead th {\n",
       "        text-align: right;\n",
       "    }\n",
       "</style>\n",
       "<table border=\"1\" class=\"dataframe\">\n",
       "  <thead>\n",
       "    <tr style=\"text-align: right;\">\n",
       "      <th></th>\n",
       "      <th>movieId</th>\n",
       "      <th>title</th>\n",
       "      <th>genres</th>\n",
       "      <th>rating</th>\n",
       "    </tr>\n",
       "  </thead>\n",
       "  <tbody>\n",
       "    <tr>\n",
       "      <th>253</th>\n",
       "      <td>318</td>\n",
       "      <td>Shawshank Redemption, The (1994)</td>\n",
       "      <td>Crime|Drama</td>\n",
       "      <td>4.413576</td>\n",
       "    </tr>\n",
       "    <tr>\n",
       "      <th>5721</th>\n",
       "      <td>170705</td>\n",
       "      <td>Band Of Brothers (2001)</td>\n",
       "      <td>Action|Drama|War</td>\n",
       "      <td>4.398599</td>\n",
       "    </tr>\n",
       "    <tr>\n",
       "      <th>596</th>\n",
       "      <td>858</td>\n",
       "      <td>Godfather, The (1972)</td>\n",
       "      <td>Crime|Drama</td>\n",
       "      <td>4.324336</td>\n",
       "    </tr>\n",
       "    <tr>\n",
       "      <th>829</th>\n",
       "      <td>1221</td>\n",
       "      <td>Godfather: Part Ii, The (1974)</td>\n",
       "      <td>Crime|Drama</td>\n",
       "      <td>4.261759</td>\n",
       "    </tr>\n",
       "    <tr>\n",
       "      <th>5669</th>\n",
       "      <td>163809</td>\n",
       "      <td>Over The Garden Wall (2013)</td>\n",
       "      <td>Adventure|Animation|Drama</td>\n",
       "      <td>4.258242</td>\n",
       "    </tr>\n",
       "    <tr>\n",
       "      <th>...</th>\n",
       "      <td>...</td>\n",
       "      <td>...</td>\n",
       "      <td>...</td>\n",
       "      <td>...</td>\n",
       "    </tr>\n",
       "    <tr>\n",
       "      <th>3668</th>\n",
       "      <td>7458</td>\n",
       "      <td>Troy (2004)</td>\n",
       "      <td>Action|Adventure|Drama|War</td>\n",
       "      <td>3.351574</td>\n",
       "    </tr>\n",
       "    <tr>\n",
       "      <th>3530</th>\n",
       "      <td>7009</td>\n",
       "      <td>Lorenzo'S Oil (1992)</td>\n",
       "      <td>Drama</td>\n",
       "      <td>3.350722</td>\n",
       "    </tr>\n",
       "    <tr>\n",
       "      <th>4344</th>\n",
       "      <td>51091</td>\n",
       "      <td>Black Snake Moan (2006)</td>\n",
       "      <td>Drama</td>\n",
       "      <td>3.350417</td>\n",
       "    </tr>\n",
       "    <tr>\n",
       "      <th>3316</th>\n",
       "      <td>6281</td>\n",
       "      <td>Phone Booth (2002)</td>\n",
       "      <td>Drama|Thriller</td>\n",
       "      <td>3.350393</td>\n",
       "    </tr>\n",
       "    <tr>\n",
       "      <th>3464</th>\n",
       "      <td>6832</td>\n",
       "      <td>Regarding Henry (1991)</td>\n",
       "      <td>Drama</td>\n",
       "      <td>3.349628</td>\n",
       "    </tr>\n",
       "  </tbody>\n",
       "</table>\n",
       "<p>1947 rows × 4 columns</p>\n",
       "</div>"
      ],
      "text/plain": [
       "      movieId                             title                      genres  \\\n",
       "253       318  Shawshank Redemption, The (1994)                 Crime|Drama   \n",
       "5721   170705           Band Of Brothers (2001)            Action|Drama|War   \n",
       "596       858             Godfather, The (1972)                 Crime|Drama   \n",
       "829      1221    Godfather: Part Ii, The (1974)                 Crime|Drama   \n",
       "5669   163809       Over The Garden Wall (2013)   Adventure|Animation|Drama   \n",
       "...       ...                               ...                         ...   \n",
       "3668     7458                       Troy (2004)  Action|Adventure|Drama|War   \n",
       "3530     7009              Lorenzo'S Oil (1992)                       Drama   \n",
       "4344    51091           Black Snake Moan (2006)                       Drama   \n",
       "3316     6281                Phone Booth (2002)              Drama|Thriller   \n",
       "3464     6832            Regarding Henry (1991)                       Drama   \n",
       "\n",
       "        rating  \n",
       "253   4.413576  \n",
       "5721  4.398599  \n",
       "596   4.324336  \n",
       "829   4.261759  \n",
       "5669  4.258242  \n",
       "...        ...  \n",
       "3668  3.351574  \n",
       "3530  3.350722  \n",
       "4344  3.350417  \n",
       "3316  3.350393  \n",
       "3464  3.349628  \n",
       "\n",
       "[1947 rows x 4 columns]"
      ]
     },
     "execution_count": 48,
     "metadata": {},
     "output_type": "execute_result"
    }
   ],
   "source": [
    "user_input = input('Enter the Genre of film to watch out for this weekend: ').title()\n",
    "highly_rated[highly_rated['genres'].str.contains(user_input)]"
   ]
  },
  {
   "cell_type": "markdown",
   "metadata": {},
   "source": [
    "### FINAL NOTE :"
   ]
  },
  {
   "cell_type": "markdown",
   "metadata": {},
   "source": [
    "- This Dataset consists of TV Series and English movies.\n",
    "\n",
    "\n",
    "- BBC's Planet Earth which is a TV Series secured top 2 places with a huge ratings of over 4.48.\n",
    "\n",
    "\n",
    "- Shawshank Redemption is the First movie that secured 3 rd place in our dataset\n",
    "\n",
    "\n",
    "- The films which come under Drama Gendre are likely to be rated high\n",
    "\n",
    "\n",
    "- The most active user of this dataset are 72315,  80974  , 137293  ,  33844  ,  20055    ('THE ONE WHO ACTIVELY RATED FOR MOVIES')\n"
   ]
  }
 ],
 "metadata": {
  "kernelspec": {
   "display_name": "Python 3",
   "language": "python",
   "name": "python3"
  },
  "language_info": {
   "codemirror_mode": {
    "name": "ipython",
    "version": 3
   },
   "file_extension": ".py",
   "mimetype": "text/x-python",
   "name": "python",
   "nbconvert_exporter": "python",
   "pygments_lexer": "ipython3",
   "version": "3.8.5"
  }
 },
 "nbformat": 4,
 "nbformat_minor": 4
}
